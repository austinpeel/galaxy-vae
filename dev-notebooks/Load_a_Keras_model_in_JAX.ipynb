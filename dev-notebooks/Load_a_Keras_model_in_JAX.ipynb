{
 "cells": [
  {
   "cell_type": "code",
   "execution_count": 1,
   "id": "injured-jurisdiction",
   "metadata": {},
   "outputs": [],
   "source": [
    "import tensorflow as tf\n",
    "from keras.layers import (Input, Dense, BatchNormalization, Flatten, Reshape, \n",
    "                          Lambda, Conv2D, Conv2DTranspose,LeakyReLU)\n",
    "from keras.models import Model\n",
    "from keras.optimizers import Adam\n",
    "from keras import initializers\n",
    "from tensorflow.python.ops import math_ops\n",
    "from tensorflow.python.framework import ops,smart_cond\n",
    "import keras.backend as K"
   ]
  },
  {
   "cell_type": "code",
   "execution_count": 2,
   "id": "dying-harvest",
   "metadata": {},
   "outputs": [],
   "source": [
    "image_size=64\n",
    "batch_size = 32\n",
    "latent_dim = 64\n",
    "start_lr = 1e-6"
   ]
  },
  {
   "cell_type": "code",
   "execution_count": 3,
   "id": "relevant-process",
   "metadata": {},
   "outputs": [],
   "source": [
    "def encoder_function(input_img):\n",
    "    #He initialization for Relu activated layers\n",
    "    Heinitializer = initializers.HeNormal()\n",
    "\n",
    "    x = Conv2D(filters=64, kernel_size=4, strides=2,padding='same',use_bias=False,\n",
    "               kernel_initializer=Heinitializer)(input_img)\n",
    "    x = LeakyReLU(0.2)(x)\n",
    "    \n",
    "    x = Conv2D(filters=128, kernel_size=4, strides=2,padding='same',use_bias=False,\n",
    "               kernel_initializer=Heinitializer)(x)\n",
    "    x = BatchNormalization()(x)\n",
    "    x = LeakyReLU(0.2)(x)\n",
    "    \n",
    "    x = Conv2D(filters=256, kernel_size=4, strides=2,padding='same',use_bias=False,\n",
    "               kernel_initializer=Heinitializer)(x)\n",
    "    x = BatchNormalization()(x)\n",
    "    x = LeakyReLU(0.2)(x)\n",
    "    \n",
    "    x = Conv2D(filters=512, kernel_size=4, strides=2,padding='same',use_bias=False,\n",
    "               kernel_initializer=Heinitializer)(x)\n",
    "    x = BatchNormalization()(x)\n",
    "    x = LeakyReLU(0.2)(x)\n",
    "    \n",
    "    x = Conv2D(filters=4096, kernel_size=4, strides=1,padding='valid',use_bias=False,\n",
    "               kernel_initializer=Heinitializer)(x)\n",
    "    x = LeakyReLU(0.2)(x)\n",
    "    \n",
    "    x = Flatten()(x)\n",
    "    \n",
    "    \n",
    "    #Predict mean of standard distribution and logarithm of variance\n",
    "    #Initialize initial logvar to be very small, \n",
    "    #So latent variables do not become completely random and lose the meaning\n",
    "    Logvar_initializer=initializers.Constant(value=-10)\n",
    "    Xavierinitializer=initializers.GlorotNormal()\n",
    "\n",
    "    z_mean = Dense(latent_dim,kernel_initializer=Xavierinitializer,bias_initializer=Xavierinitializer)(x)\n",
    "    z_log_var = Dense(latent_dim, kernel_initializer=Xavierinitializer,bias_initializer=Logvar_initializer)(x)\n",
    "\n",
    "    return z_mean,z_log_var"
   ]
  },
  {
   "cell_type": "code",
   "execution_count": 4,
   "id": "moved-cooling",
   "metadata": {},
   "outputs": [],
   "source": [
    "def get_decoder(activation):\n",
    "    def decoder_function(z):\n",
    "        #He initialization for Relu activated layers\n",
    "        Heinitializer = initializers.HeNormal()\n",
    "\n",
    "        x = Reshape(target_shape=(1, 1, 64))(z)\n",
    "\n",
    "        x = Conv2DTranspose(filters=512, kernel_size=4, strides=1,padding='valid',use_bias=False,\n",
    "                            kernel_initializer=Heinitializer)(x)\n",
    "        x = BatchNormalization()(x)\n",
    "        x = LeakyReLU(0.2)(x)\n",
    "\n",
    "        x = Conv2DTranspose(filters=256, kernel_size=4, strides=2,padding='same',use_bias=False,\n",
    "                            kernel_initializer=Heinitializer)(x)\n",
    "        x = BatchNormalization()(x)\n",
    "        x = LeakyReLU(0.2)(x)\n",
    "\n",
    "        x = Conv2DTranspose(filters=128, kernel_size=4, strides=2,padding='same',use_bias=False,\n",
    "                            kernel_initializer=Heinitializer)(x)\n",
    "        x = BatchNormalization()(x)\n",
    "        x = LeakyReLU(0.2)(x)\n",
    "\n",
    "        x = Conv2DTranspose(filters=64, kernel_size=4, strides=2,padding='same',use_bias=False,\n",
    "                            kernel_initializer=Heinitializer)(x)\n",
    "        x = BatchNormalization()(x)\n",
    "        x = LeakyReLU(0.2)(x)\n",
    "\n",
    "        #Xavier intialization for differentiable functions activated layers\n",
    "        Xavierinitializer=initializers.GlorotNormal()\n",
    "        if activation=='':\n",
    "            decoded = Conv2DTranspose(filters=1, kernel_size=4, strides=2,padding='same',use_bias=False\n",
    "                                    ,kernel_initializer=Xavierinitializer)(x)\n",
    "        else:\n",
    "            decoded = Conv2DTranspose(filters=1, kernel_size=4, strides=2,padding='same',use_bias=False,\n",
    "                                  activation=activation,kernel_initializer=Xavierinitializer)(x)\n",
    "\n",
    "        return decoded\n",
    "    return decoder_function"
   ]
  },
  {
   "cell_type": "code",
   "execution_count": 5,
   "id": "satisfied-breeding",
   "metadata": {},
   "outputs": [],
   "source": [
    "def get_reconstruction_loss(loss_type='chi_sq'):\n",
    "\n",
    "    #Chose original loss function\n",
    "    if (loss_type=='chi_sq') or (loss_type=='mse'):\n",
    "        loss_function=tf.math.squared_difference\n",
    "    if loss_type=='binary_crossentropy':\n",
    "        loss_function=K.binary_crossentropy\n",
    "\n",
    "    def reconstruction_loss_function(y_true,y_pred):\n",
    "        y_pred = tf.convert_to_tensor(y_pred)\n",
    "        y_true = tf.cast(y_true, y_pred.dtype)\n",
    "\n",
    "        reconstruction_loss=loss_function(y_true,y_pred)\n",
    "\n",
    "        #cast mse to chi_square by adding weights\n",
    "        if (loss_type=='chi_sq'):\n",
    "            #Poisson weights (sigma=sqrt(image))\n",
    "            weights=tf.math.pow(tf.sqrt(tf.abs(y_true)+1e-5),-1)\n",
    "            weights= math_ops.cast(weights, y_pred.dtype)\n",
    "            reconstruction_loss=reconstruction_loss*weights\n",
    "\n",
    "        return K.mean(reconstruction_loss,axis=-1)\n",
    "\n",
    "    return reconstruction_loss_function"
   ]
  },
  {
   "cell_type": "code",
   "execution_count": 6,
   "id": "imported-newport",
   "metadata": {},
   "outputs": [],
   "source": [
    "def get_model_loss(beta_vae=1e-3,loss_type='chi_sq'):\n",
    "    reconstruction_loss_function=get_reconstruction_loss(loss_type)\n",
    "\n",
    "    def model_loss_function(x,decoded):\n",
    "\n",
    "        #reconstruction quality\n",
    "        flattened_x=K.reshape(x,shape=(len(x),image_size*image_size))\n",
    "        flattened_decoded=K.reshape(decoded,shape=(len(decoded),image_size*image_size))\n",
    "        reconstruction_loss=image_size*image_size*reconstruction_loss_function(flattened_x,flattened_decoded)\n",
    "\n",
    "        #KL divergence regularization quality\n",
    "        mean = models['z_meaner'](x)\n",
    "        logvar=models['z_log_varer'](x)\n",
    "        KL_loss=0.5 * K.sum(1 + logvar - K.square(mean) - K.exp(logvar), axis=-1)\n",
    "\n",
    "        Beta_VAE_Loss=(reconstruction_loss-beta_vae*KL_loss)/image_size/image_size\n",
    "        return Beta_VAE_Loss\n",
    "\n",
    "    return model_loss_function,reconstruction_loss_function"
   ]
  },
  {
   "cell_type": "code",
   "execution_count": 7,
   "id": "effective-slovakia",
   "metadata": {},
   "outputs": [],
   "source": [
    "def create_vae(beta_vae=1e-3,activation='softplus',loss_type='chi_sq'):\n",
    "\n",
    "    #Reparametrization trick\n",
    "    def reparameterize(args):\n",
    "        mean,logvar=args\n",
    "        eps = tf.random.normal(shape=mean.shape)\n",
    "        return eps * tf.exp(logvar/2) + mean\n",
    "\n",
    "\n",
    "    decoder_function=get_decoder(activation)\n",
    "    model_loss_function,reconstruction_loss_function=get_model_loss(beta_vae,loss_type)\n",
    "\n",
    "\n",
    "    #VAE\n",
    "    models = {}\n",
    "\n",
    "    #Encoder\n",
    "    input_img = Input(batch_shape=(batch_size, image_size, image_size, 1))\n",
    "\n",
    "    z_mean, z_log_var=encoder_function(input_img)\n",
    "\n",
    "    l=Lambda(reparameterize, output_shape=(latent_dim,))([z_mean, z_log_var])\n",
    "\n",
    "    models[\"encoder\"]  = Model(input_img, l, name='Encoder') \n",
    "    models[\"z_meaner\"] = Model(input_img, z_mean, name='Enc_z_mean')\n",
    "    models[\"z_log_varer\"] = Model(input_img, z_log_var, name='Enc_z_log_var')\n",
    "\n",
    "    #Decoder\n",
    "    z = Input(shape=(latent_dim, ))\n",
    "    decoded=decoder_function(z)\n",
    "\n",
    "    models[\"decoder\"] = Model(z, decoded, name='Decoder')\n",
    "    models[\"vae\"]     = Model(input_img, models[\"decoder\"](models[\"encoder\"](input_img)), name=\"VAE\")\n",
    "\n",
    "    return models,model_loss_function,reconstruction_loss_function"
   ]
  },
  {
   "cell_type": "code",
   "execution_count": 8,
   "id": "efficient-bundle",
   "metadata": {},
   "outputs": [],
   "source": [
    "def get_Neural_Network(beta_vae=1e-3,activation='softplus',loss_type='chi_sq'):\n",
    "    with tf.device('/device:GPU:0'):\n",
    "        models,model_loss_function,reconstruction_loss_function= create_vae(beta_vae,activation,loss_type)\n",
    "        models[\"vae\"].compile(optimizer=Adam(learning_rate=start_lr, beta_1=0.5, beta_2=0.999,clipvalue=0.1), \n",
    "                              loss=model_loss_function)\n",
    "        return models,model_loss_function,reconstruction_loss_function"
   ]
  },
  {
   "cell_type": "markdown",
   "id": "furnished-convergence",
   "metadata": {},
   "source": [
    "## Load a model"
   ]
  },
  {
   "cell_type": "code",
   "execution_count": 10,
   "id": "innovative-kuwait",
   "metadata": {},
   "outputs": [],
   "source": [
    "beta_vae=1e-3\n",
    "activation='softplus'\n",
    "loss_type='chi_sq'\n",
    "models,model_loss_function,reconstruction_loss_function=get_Neural_Network(beta_vae,activation,loss_type)"
   ]
  },
  {
   "cell_type": "code",
   "execution_count": 11,
   "id": "removable-district",
   "metadata": {},
   "outputs": [],
   "source": [
    "import os"
   ]
  },
  {
   "cell_type": "code",
   "execution_count": 12,
   "id": "roman-modern",
   "metadata": {},
   "outputs": [
    {
     "data": {
      "text/plain": [
       "'/Users/austinpeel/Software/python/galaxy-vae/dev-notebooks/data/base'"
      ]
     },
     "execution_count": 12,
     "metadata": {},
     "output_type": "execute_result"
    }
   ],
   "source": [
    "os.path.join(os.getcwd(), 'data', 'base')"
   ]
  },
  {
   "cell_type": "code",
   "execution_count": 13,
   "id": "unusual-watch",
   "metadata": {},
   "outputs": [
    {
     "name": "stdout",
     "output_type": "stream",
     "text": [
      "encoder\n",
      "z_meaner\n",
      "z_log_varer\n",
      "decoder\n",
      "vae\n"
     ]
    }
   ],
   "source": [
    "for k in models.keys():\n",
    "    print(k)"
   ]
  },
  {
   "cell_type": "code",
   "execution_count": 14,
   "id": "cloudy-spoke",
   "metadata": {},
   "outputs": [
    {
     "name": "stderr",
     "output_type": "stream",
     "text": [
      "WARNING:absl:No GPU/TPU found, falling back to CPU. (Set TF_CPP_MIN_LOG_LEVEL=0 and rerun for more info.)\n"
     ]
    }
   ],
   "source": [
    "checkpoint = '/Users/austinpeel/Software/python/galaxy-vae/data/epoch_320/Model'\n",
    "models['vae'].load_weights(checkpoint)\n",
    "encoder_weights = models['encoder'].get_weights()\n",
    "decoder_weights = models['decoder'].get_weights()\n",
    "\n",
    "encoder_weights = [jnp.array(w) for w in encoder_weights]\n",
    "decoder_weights = [jnp.array(w) for w in decoder_weights]"
   ]
  },
  {
   "cell_type": "code",
   "execution_count": 15,
   "id": "metric-adobe",
   "metadata": {},
   "outputs": [],
   "source": [
    "vae_tf = models['vae']\n",
    "encoder_tf = models['encoder']\n",
    "decoder_tf = models['decoder']"
   ]
  },
  {
   "cell_type": "code",
   "execution_count": 16,
   "id": "earlier-bedroom",
   "metadata": {},
   "outputs": [
    {
     "data": {
      "text/plain": [
       "[<tensorflow.python.keras.engine.input_layer.InputLayer at 0x7fac166146d0>,\n",
       " <tensorflow.python.keras.layers.convolutional.Conv2D at 0x7fac178f3d10>,\n",
       " <tensorflow.python.keras.layers.advanced_activations.LeakyReLU at 0x7fac179a5ed0>,\n",
       " <tensorflow.python.keras.layers.convolutional.Conv2D at 0x7fac179fdbd0>,\n",
       " <tensorflow.python.keras.layers.normalization_v2.BatchNormalization at 0x7fac17a40d10>,\n",
       " <tensorflow.python.keras.layers.advanced_activations.LeakyReLU at 0x7fac17a40710>,\n",
       " <tensorflow.python.keras.layers.convolutional.Conv2D at 0x7fac17a677d0>,\n",
       " <tensorflow.python.keras.layers.normalization_v2.BatchNormalization at 0x7fac17a76fd0>,\n",
       " <tensorflow.python.keras.layers.advanced_activations.LeakyReLU at 0x7fac17a70ed0>,\n",
       " <tensorflow.python.keras.layers.convolutional.Conv2D at 0x7fac17a815d0>,\n",
       " <tensorflow.python.keras.layers.normalization_v2.BatchNormalization at 0x7fac17a70f90>,\n",
       " <tensorflow.python.keras.layers.advanced_activations.LeakyReLU at 0x7fac17b8da50>,\n",
       " <tensorflow.python.keras.layers.convolutional.Conv2D at 0x7fac17b857d0>,\n",
       " <tensorflow.python.keras.layers.advanced_activations.LeakyReLU at 0x7fac17a70290>,\n",
       " <tensorflow.python.keras.layers.core.Flatten at 0x7fac17a401d0>,\n",
       " <tensorflow.python.keras.layers.core.Dense at 0x7fac17b96e50>,\n",
       " <tensorflow.python.keras.layers.core.Dense at 0x7fac17b96110>,\n",
       " <tensorflow.python.keras.layers.core.Lambda at 0x7fac17a67dd0>]"
      ]
     },
     "execution_count": 16,
     "metadata": {},
     "output_type": "execute_result"
    }
   ],
   "source": [
    "encoder_tf.layers"
   ]
  },
  {
   "cell_type": "code",
   "execution_count": 17,
   "id": "wired-spotlight",
   "metadata": {},
   "outputs": [
    {
     "data": {
      "text/plain": [
       "[<tensorflow.python.keras.engine.input_layer.InputLayer at 0x7fac02708cd0>,\n",
       " <tensorflow.python.keras.layers.core.Reshape at 0x7fac0270e2d0>,\n",
       " <tensorflow.python.keras.layers.convolutional.Conv2DTranspose at 0x7fac0270ee10>,\n",
       " <tensorflow.python.keras.layers.normalization_v2.BatchNormalization at 0x7fac0271dc10>,\n",
       " <tensorflow.python.keras.layers.advanced_activations.LeakyReLU at 0x7fac02723d90>,\n",
       " <tensorflow.python.keras.layers.convolutional.Conv2DTranspose at 0x7fac0272c610>,\n",
       " <tensorflow.python.keras.layers.normalization_v2.BatchNormalization at 0x7fac0272f690>,\n",
       " <tensorflow.python.keras.layers.advanced_activations.LeakyReLU at 0x7fac0272f610>,\n",
       " <tensorflow.python.keras.layers.convolutional.Conv2DTranspose at 0x7fac02725a90>,\n",
       " <tensorflow.python.keras.layers.normalization_v2.BatchNormalization at 0x7fac03142110>,\n",
       " <tensorflow.python.keras.layers.advanced_activations.LeakyReLU at 0x7fac03145fd0>,\n",
       " <tensorflow.python.keras.layers.convolutional.Conv2DTranspose at 0x7fac03155290>,\n",
       " <tensorflow.python.keras.layers.normalization_v2.BatchNormalization at 0x7fac0315a710>,\n",
       " <tensorflow.python.keras.layers.advanced_activations.LeakyReLU at 0x7fac03160050>,\n",
       " <tensorflow.python.keras.layers.convolutional.Conv2DTranspose at 0x7fac03167890>]"
      ]
     },
     "execution_count": 17,
     "metadata": {},
     "output_type": "execute_result"
    }
   ],
   "source": [
    "decoder_tf.layers"
   ]
  },
  {
   "cell_type": "code",
   "execution_count": 18,
   "id": "painted-commodity",
   "metadata": {},
   "outputs": [
    {
     "name": "stdout",
     "output_type": "stream",
     "text": [
      " 0: (4, 4, 512, 64)\n",
      " 1: (512,)\n",
      " 2: (512,)\n",
      " 3: (512,)\n",
      " 4: (512,)\n",
      " 5: (4, 4, 256, 512)\n",
      " 6: (256,)\n",
      " 7: (256,)\n",
      " 8: (256,)\n",
      " 9: (256,)\n",
      "10: (4, 4, 128, 256)\n",
      "11: (128,)\n",
      "12: (128,)\n",
      "13: (128,)\n",
      "14: (128,)\n",
      "15: (4, 4, 64, 128)\n",
      "16: (64,)\n",
      "17: (64,)\n",
      "18: (64,)\n",
      "19: (64,)\n",
      "20: (4, 4, 1, 64)\n"
     ]
    }
   ],
   "source": [
    "for i, w in enumerate(decoder_weights):\n",
    "    print(f'{i:2}: {w.shape}')"
   ]
  },
  {
   "cell_type": "code",
   "execution_count": 19,
   "id": "intense-focus",
   "metadata": {},
   "outputs": [
    {
     "name": "stdout",
     "output_type": "stream",
     "text": [
      " 0: (4, 4, 1, 64)\n",
      " 1: (4, 4, 64, 128)\n",
      " 2: (128,)\n",
      " 3: (128,)\n",
      " 4: (128,)\n",
      " 5: (128,)\n",
      " 6: (4, 4, 128, 256)\n",
      " 7: (256,)\n",
      " 8: (256,)\n",
      " 9: (256,)\n",
      "10: (256,)\n",
      "11: (4, 4, 256, 512)\n",
      "12: (512,)\n",
      "13: (512,)\n",
      "14: (512,)\n",
      "15: (512,)\n",
      "16: (4, 4, 512, 4096)\n",
      "17: (4096, 64)\n",
      "18: (64,)\n",
      "19: (4096, 64)\n",
      "20: (64,)\n"
     ]
    }
   ],
   "source": [
    "for i, w in enumerate(encoder_weights):\n",
    "    print(f'{i:2}: {w.shape}')"
   ]
  },
  {
   "cell_type": "code",
   "execution_count": 35,
   "id": "exotic-prerequisite",
   "metadata": {},
   "outputs": [
    {
     "data": {
      "text/plain": [
       "array([-0.03607206,  0.226308  , -0.22996154, -0.00760088, -0.25990087,\n",
       "        0.0086865 ,  0.01873955, -0.02613028,  0.15182847, -0.0059599 ,\n",
       "        0.05050728, -0.03551071,  0.18490903, -0.00381583, -0.06801917,\n",
       "        0.03954849, -0.07574396,  0.06284802,  0.09500168, -0.17467418,\n",
       "        0.06188508,  0.03056237,  0.0821493 ,  0.07256949,  0.03355469,\n",
       "        0.06893885,  0.14909877, -0.00735749,  0.03063714, -0.07172196,\n",
       "        0.08460348,  0.2810998 ,  0.00778355,  0.02230872, -0.02279896,\n",
       "        0.20574175, -0.10070538, -0.05720329, -0.09787963,  0.11189447,\n",
       "       -0.0999905 ,  0.02911525,  0.1982547 , -0.14535163,  0.08385505,\n",
       "       -0.02836546, -0.02787953, -0.21618086, -0.06666051, -0.19128656,\n",
       "       -0.03962134,  0.17387792, -0.00403129, -0.02523759,  0.12922947,\n",
       "       -0.00712307,  0.03493008, -0.04890649,  0.07285206,  0.2524235 ,\n",
       "       -0.10076681,  0.04276151,  0.0082577 , -0.12512967], dtype=float32)"
      ]
     },
     "execution_count": 35,
     "metadata": {},
     "output_type": "execute_result"
    }
   ],
   "source": [
    "models['z_meaner'].get_weights()[18]"
   ]
  },
  {
   "cell_type": "markdown",
   "id": "reserved-radius",
   "metadata": {},
   "source": [
    "## Load weights into JAX VAE"
   ]
  },
  {
   "cell_type": "code",
   "execution_count": 9,
   "id": "endless-aging",
   "metadata": {},
   "outputs": [],
   "source": [
    "import matplotlib.pyplot as plt\n",
    "%matplotlib inline\n",
    "import numpy as np\n",
    "from scipy.ndimage.filters import gaussian_filter as gf\n",
    "# from tqdm import tqdm\n",
    "\n",
    "# Basic JAX\n",
    "import jax\n",
    "from jax import random, tree_map, numpy as jnp\n",
    "from jax.config import config\n",
    "config.update(\"jax_enable_x64\", True)\n",
    "\n",
    "# JAX neural networks\n",
    "import flax.linen as nn\n",
    "from flax import optim\n",
    "from flax.core import freeze, unfreeze\n",
    "from jax.nn.initializers import he_normal"
   ]
  },
  {
   "cell_type": "code",
   "execution_count": 37,
   "id": "graphic-rendering",
   "metadata": {},
   "outputs": [],
   "source": [
    "class Encoder(nn.Module):\n",
    "    zdim: int\n",
    "    \n",
    "    @nn.compact\n",
    "    def __call__(self, x, train: bool = True):\n",
    "        # Common arguments\n",
    "        kwargs = {'kernel_size': (4, 4),\n",
    "                  'strides': (2, 2),\n",
    "                  'padding': 'SAME',\n",
    "                  'use_bias': False,\n",
    "                  'kernel_init': he_normal()}\n",
    "        \n",
    "        # x = np.reshape(x, (64, 64, 1))\n",
    "        x = x[..., None]\n",
    "        \n",
    "        # Layer 1\n",
    "        x = nn.Conv(features=64, **kwargs)(x)\n",
    "        x = nn.leaky_relu(x, 0.2)\n",
    "\n",
    "        # Layer 2\n",
    "        x = nn.Conv(features=128, **kwargs)(x)\n",
    "        x = nn.BatchNorm(use_running_average=not train)(x)\n",
    "        x = nn.leaky_relu(x, 0.2)\n",
    "        \n",
    "        # Layer 3\n",
    "        x = nn.Conv(features=256, **kwargs)(x)\n",
    "        x = nn.BatchNorm(use_running_average=not train)(x)\n",
    "        x = nn.leaky_relu(x, 0.2)\n",
    "        \n",
    "        # Layer 4\n",
    "        x = nn.Conv(features=512, **kwargs)(x)\n",
    "        x = nn.BatchNorm(use_running_average=not train)(x)\n",
    "        x = nn.leaky_relu(x, 0.2)\n",
    "    \n",
    "        # Layer 5\n",
    "        x = nn.Conv(features=4096, kernel_size=(4, 4), strides=(1, 1), padding='VALID', \n",
    "                    use_bias=False, kernel_init=he_normal())(x)\n",
    "        x = nn.leaky_relu(x, 0.2)\n",
    "    \n",
    "        # Flatten\n",
    "        x = x.flatten()\n",
    "    \n",
    "        # Predict latent variables\n",
    "        z_mean = nn.Dense(features=self.zdim)(x)\n",
    "        z_logvar = nn.Dense(features=self.zdim)(x)\n",
    "        \n",
    "        return z_mean, z_logvar\n",
    "    \n",
    "class Decoder(nn.Module):\n",
    "    zdim: int\n",
    "    \n",
    "    @nn.compact\n",
    "    def __call__(self, z, train: bool = True):\n",
    "        # Common arguments\n",
    "        conv_kwargs = {'kernel_size': (4, 4),\n",
    "                       'strides': (2, 2),\n",
    "                       'padding': 'SAME',\n",
    "                       'use_bias': False,\n",
    "                       'kernel_init': he_normal()}\n",
    "        norm_kwargs = {'use_running_average': not train,\n",
    "                       'momentum': 0.99,\n",
    "                       'epsilon': 0.001,\n",
    "                       'use_scale': True,\n",
    "                       'use_bias': True}\n",
    "        \n",
    "        z = np.reshape(z, (1, 1, self.zdim))\n",
    "        \n",
    "        # Layer 1\n",
    "        z = nn.ConvTranspose(features=512, kernel_size=(4, 4), strides=(1, 1), padding='VALID',\n",
    "                             use_bias=False, kernel_init=he_normal())(z)\n",
    "        z = nn.BatchNorm(**norm_kwargs)(z)\n",
    "        z = nn.leaky_relu(z, 0.2)\n",
    "        \n",
    "        # Layer 2\n",
    "        z = nn.ConvTranspose(features=256, **conv_kwargs)(z)\n",
    "        z = nn.BatchNorm(**norm_kwargs)(z)\n",
    "        z = nn.leaky_relu(z, 0.2)\n",
    "        \n",
    "        # Layer 3\n",
    "        z = nn.ConvTranspose(features=128, **conv_kwargs)(z)\n",
    "        z = nn.BatchNorm(**norm_kwargs)(z)\n",
    "        z = nn.leaky_relu(z, 0.2)\n",
    "        \n",
    "        # Layer 4\n",
    "        z = nn.ConvTranspose(features=64, **conv_kwargs)(z)\n",
    "        z = nn.BatchNorm(**norm_kwargs)(z)\n",
    "        z = nn.leaky_relu(z, 0.2)\n",
    "        \n",
    "        # Layer 5\n",
    "        z = nn.ConvTranspose(features=1, kernel_size=(4, 4), strides=(2, 2), padding='SAME',\n",
    "                             use_bias=False, kernel_init=nn.initializers.xavier_normal())(z)\n",
    "        # x = nn.sigmoid(z)\n",
    "        x = nn.softplus(z)\n",
    "        \n",
    "        return jnp.rot90(np.squeeze(x), k=2)  # Rotate to match TF output\n",
    "    \n",
    "class VAE(nn.Module):\n",
    "    zdim: int\n",
    "    \n",
    "    def setup(self):\n",
    "        self.encoder = Encoder(self.zdim)\n",
    "        self.decoder = Decoder(self.zdim)\n",
    "        \n",
    "    def __call__(self, x, z_rng, train: bool = True):\n",
    "        z_mean, z_logvar = self.encoder(x, train)\n",
    "        z = self.reparameterize(z_rng, z_mean, z_logvar)\n",
    "        x_rec = self.decoder(z, train)\n",
    "        return x_rec, z_mean, z_logvar\n",
    "    \n",
    "    def decode(self, params, z):\n",
    "        return vae.apply(params, z, method=self._decode)\n",
    "    \n",
    "    def _decode(self, z):\n",
    "        return self.decoder(z, train=False)\n",
    "    \n",
    "    @staticmethod\n",
    "    def reparameterize(rng, mean, logvar):\n",
    "        std = jnp.exp(0.5 * logvar)\n",
    "        eps = random.normal(rng, logvar.shape)\n",
    "        return mean + eps * std"
   ]
  },
  {
   "cell_type": "markdown",
   "id": "representative-collectible",
   "metadata": {},
   "source": [
    "## Load weights from TF model"
   ]
  },
  {
   "cell_type": "code",
   "execution_count": 38,
   "id": "casual-booking",
   "metadata": {},
   "outputs": [],
   "source": [
    "xdim = 64  # image (64, 64)\n",
    "zdim = 64\n",
    "\n",
    "encoder = Encoder(zdim)\n",
    "decoder = Decoder(zdim)\n",
    "vae = VAE(zdim)"
   ]
  },
  {
   "cell_type": "code",
   "execution_count": 39,
   "id": "veterinary-floating",
   "metadata": {},
   "outputs": [
    {
     "data": {
      "text/plain": [
       "FrozenDict({\n",
       "    batch_stats: {\n",
       "        decoder: {\n",
       "            BatchNorm_0: {\n",
       "                mean: (512,),\n",
       "                var: (512,),\n",
       "            },\n",
       "            BatchNorm_1: {\n",
       "                mean: (256,),\n",
       "                var: (256,),\n",
       "            },\n",
       "            BatchNorm_2: {\n",
       "                mean: (128,),\n",
       "                var: (128,),\n",
       "            },\n",
       "            BatchNorm_3: {\n",
       "                mean: (64,),\n",
       "                var: (64,),\n",
       "            },\n",
       "        },\n",
       "        encoder: {\n",
       "            BatchNorm_0: {\n",
       "                mean: (128,),\n",
       "                var: (128,),\n",
       "            },\n",
       "            BatchNorm_1: {\n",
       "                mean: (256,),\n",
       "                var: (256,),\n",
       "            },\n",
       "            BatchNorm_2: {\n",
       "                mean: (512,),\n",
       "                var: (512,),\n",
       "            },\n",
       "        },\n",
       "    },\n",
       "    params: {\n",
       "        decoder: {\n",
       "            BatchNorm_0: {\n",
       "                bias: (512,),\n",
       "                scale: (512,),\n",
       "            },\n",
       "            BatchNorm_1: {\n",
       "                bias: (256,),\n",
       "                scale: (256,),\n",
       "            },\n",
       "            BatchNorm_2: {\n",
       "                bias: (128,),\n",
       "                scale: (128,),\n",
       "            },\n",
       "            BatchNorm_3: {\n",
       "                bias: (64,),\n",
       "                scale: (64,),\n",
       "            },\n",
       "            ConvTranspose_0: {\n",
       "                kernel: (4, 4, 64, 512),\n",
       "            },\n",
       "            ConvTranspose_1: {\n",
       "                kernel: (4, 4, 512, 256),\n",
       "            },\n",
       "            ConvTranspose_2: {\n",
       "                kernel: (4, 4, 256, 128),\n",
       "            },\n",
       "            ConvTranspose_3: {\n",
       "                kernel: (4, 4, 128, 64),\n",
       "            },\n",
       "            ConvTranspose_4: {\n",
       "                kernel: (4, 4, 64, 1),\n",
       "            },\n",
       "        },\n",
       "        encoder: {\n",
       "            BatchNorm_0: {\n",
       "                bias: (128,),\n",
       "                scale: (128,),\n",
       "            },\n",
       "            BatchNorm_1: {\n",
       "                bias: (256,),\n",
       "                scale: (256,),\n",
       "            },\n",
       "            BatchNorm_2: {\n",
       "                bias: (512,),\n",
       "                scale: (512,),\n",
       "            },\n",
       "            Conv_0: {\n",
       "                kernel: (4, 4, 1, 64),\n",
       "            },\n",
       "            Conv_1: {\n",
       "                kernel: (4, 4, 64, 128),\n",
       "            },\n",
       "            Conv_2: {\n",
       "                kernel: (4, 4, 128, 256),\n",
       "            },\n",
       "            Conv_3: {\n",
       "                kernel: (4, 4, 256, 512),\n",
       "            },\n",
       "            Conv_4: {\n",
       "                kernel: (4, 4, 512, 4096),\n",
       "            },\n",
       "            Dense_0: {\n",
       "                bias: (64,),\n",
       "                kernel: (4096, 64),\n",
       "            },\n",
       "            Dense_1: {\n",
       "                bias: (64,),\n",
       "                kernel: (4096, 64),\n",
       "            },\n",
       "        },\n",
       "    },\n",
       "})"
      ]
     },
     "execution_count": 39,
     "metadata": {},
     "output_type": "execute_result"
    }
   ],
   "source": [
    "key, subkey1, subkey2 = random.split(random.PRNGKey(42), 3)\n",
    "# init_data = jnp.ones((1, 1, zdim))\n",
    "# params = decoder.init(subkey, init_data)\n",
    "init_data = jnp.ones((xdim, xdim))\n",
    "params = vae.init(subkey1, init_data, z_rng=subkey2)\n",
    "tree_map(jnp.shape, params)"
   ]
  },
  {
   "cell_type": "code",
   "execution_count": 40,
   "id": "literary-lingerie",
   "metadata": {},
   "outputs": [],
   "source": [
    "# Replace encoder weights\n",
    "unfrozen_params = unfreeze(params)\n",
    "unfrozen_params['params']['encoder']['Conv_0']['kernel'] = encoder_weights[0]\n",
    "unfrozen_params['params']['encoder']['Conv_1']['kernel'] = encoder_weights[1]\n",
    "unfrozen_params['params']['encoder']['BatchNorm_0']['scale'] = encoder_weights[2]\n",
    "unfrozen_params['params']['encoder']['BatchNorm_0']['bias'] = encoder_weights[3]\n",
    "unfrozen_params['batch_stats']['encoder']['BatchNorm_0']['mean'] = encoder_weights[4]\n",
    "unfrozen_params['batch_stats']['encoder']['BatchNorm_0']['var'] = encoder_weights[5]\n",
    "unfrozen_params['params']['encoder']['Conv_2']['kernel'] = encoder_weights[6]\n",
    "unfrozen_params['params']['encoder']['BatchNorm_1']['scale'] = encoder_weights[7]\n",
    "unfrozen_params['params']['encoder']['BatchNorm_1']['bias'] = encoder_weights[8]\n",
    "unfrozen_params['batch_stats']['encoder']['BatchNorm_1']['mean'] = encoder_weights[9]\n",
    "unfrozen_params['batch_stats']['encoder']['BatchNorm_1']['var'] = encoder_weights[10]\n",
    "unfrozen_params['params']['encoder']['Conv_3']['kernel'] = encoder_weights[11]\n",
    "unfrozen_params['params']['encoder']['BatchNorm_2']['scale'] = encoder_weights[12]\n",
    "unfrozen_params['params']['encoder']['BatchNorm_2']['bias'] = encoder_weights[13]\n",
    "unfrozen_params['batch_stats']['encoder']['BatchNorm_2']['mean'] = encoder_weights[14]\n",
    "unfrozen_params['batch_stats']['encoder']['BatchNorm_2']['var'] = encoder_weights[15]\n",
    "unfrozen_params['params']['encoder']['Conv_4']['kernel'] = encoder_weights[16]\n",
    "unfrozen_params['params']['encoder']['Dense_0']['kernel'] = encoder_weights[17]\n",
    "unfrozen_params['params']['encoder']['Dense_0']['bias'] = encoder_weights[18]\n",
    "unfrozen_params['params']['encoder']['Dense_1']['kernel'] = encoder_weights[19]\n",
    "unfrozen_params['params']['encoder']['Dense_1']['bias'] = encoder_weights[20]\n",
    "\n",
    "# Replace decoder weights\n",
    "unfrozen_params['params']['decoder']['ConvTranspose_0']['kernel'] = np.swapaxes(decoder_weights[0], 2, 3)\n",
    "unfrozen_params['params']['decoder']['BatchNorm_0']['scale'] = decoder_weights[1]\n",
    "unfrozen_params['params']['decoder']['BatchNorm_0']['bias'] = decoder_weights[2]\n",
    "unfrozen_params['batch_stats']['decoder']['BatchNorm_0']['mean'] = decoder_weights[3]\n",
    "unfrozen_params['batch_stats']['decoder']['BatchNorm_0']['var'] = decoder_weights[4]\n",
    "unfrozen_params['params']['decoder']['ConvTranspose_1']['kernel'] = np.swapaxes(decoder_weights[5], 2, 3)\n",
    "unfrozen_params['params']['decoder']['BatchNorm_1']['scale'] = decoder_weights[6]\n",
    "unfrozen_params['params']['decoder']['BatchNorm_1']['bias'] = decoder_weights[7]\n",
    "unfrozen_params['batch_stats']['decoder']['BatchNorm_1']['mean'] = decoder_weights[8]\n",
    "unfrozen_params['batch_stats']['decoder']['BatchNorm_1']['var'] = decoder_weights[9]\n",
    "unfrozen_params['params']['decoder']['ConvTranspose_2']['kernel'] = np.swapaxes(decoder_weights[10], 2, 3)\n",
    "unfrozen_params['params']['decoder']['BatchNorm_2']['scale'] = decoder_weights[11]\n",
    "unfrozen_params['params']['decoder']['BatchNorm_2']['bias'] = decoder_weights[12]\n",
    "unfrozen_params['batch_stats']['decoder']['BatchNorm_2']['mean'] = decoder_weights[13]\n",
    "unfrozen_params['batch_stats']['decoder']['BatchNorm_2']['var'] = decoder_weights[14]\n",
    "unfrozen_params['params']['decoder']['ConvTranspose_3']['kernel'] = np.swapaxes(decoder_weights[15], 2, 3)\n",
    "unfrozen_params['params']['decoder']['BatchNorm_3']['scale'] = decoder_weights[16]\n",
    "unfrozen_params['params']['decoder']['BatchNorm_3']['bias'] = decoder_weights[17]\n",
    "unfrozen_params['batch_stats']['decoder']['BatchNorm_3']['mean'] = decoder_weights[18]\n",
    "unfrozen_params['batch_stats']['decoder']['BatchNorm_3']['var'] = decoder_weights[19]\n",
    "unfrozen_params['params']['decoder']['ConvTranspose_4']['kernel'] = np.swapaxes(decoder_weights[20], 2, 3)\n",
    "params = freeze(unfrozen_params)\n",
    "\n",
    "# Replace only decoder weights\n",
    "# unfrozen_params = unfreeze(params)\n",
    "# unfrozen_params['params']['ConvTranspose_0']['kernel'] = np.swapaxes(decoder_weights[0], 2, 3)\n",
    "# unfrozen_params['params']['BatchNorm_0']['scale'] = decoder_weights[1]\n",
    "# unfrozen_params['params']['BatchNorm_0']['bias'] = decoder_weights[2]\n",
    "# unfrozen_params['batch_stats']['BatchNorm_0']['mean'] = decoder_weights[3]\n",
    "# unfrozen_params['batch_stats']['BatchNorm_0']['var'] = decoder_weights[4]\n",
    "# unfrozen_params['params']['ConvTranspose_1']['kernel'] = np.swapaxes(decoder_weights[5], 2, 3)\n",
    "# unfrozen_params['params']['BatchNorm_1']['scale'] = decoder_weights[6]\n",
    "# unfrozen_params['params']['BatchNorm_1']['bias'] = decoder_weights[7]\n",
    "# unfrozen_params['batch_stats']['BatchNorm_1']['mean'] = decoder_weights[8]\n",
    "# unfrozen_params['batch_stats']['BatchNorm_1']['var'] = decoder_weights[9]\n",
    "# unfrozen_params['params']['ConvTranspose_2']['kernel'] = np.swapaxes(decoder_weights[10], 2, 3)\n",
    "# unfrozen_params['params']['BatchNorm_2']['scale'] = decoder_weights[11]\n",
    "# unfrozen_params['params']['BatchNorm_2']['bias'] = decoder_weights[12]\n",
    "# unfrozen_params['batch_stats']['BatchNorm_2']['mean'] = decoder_weights[13]\n",
    "# unfrozen_params['batch_stats']['BatchNorm_2']['var'] = decoder_weights[14]\n",
    "# unfrozen_params['params']['ConvTranspose_3']['kernel'] = np.swapaxes(decoder_weights[15], 2, 3)\n",
    "# unfrozen_params['params']['BatchNorm_3']['scale'] = decoder_weights[16]\n",
    "# unfrozen_params['params']['BatchNorm_3']['bias'] = decoder_weights[17]\n",
    "# unfrozen_params['batch_stats']['BatchNorm_3']['mean'] = decoder_weights[18]\n",
    "# unfrozen_params['batch_stats']['BatchNorm_3']['var'] = decoder_weights[19]\n",
    "# unfrozen_params['params']['ConvTranspose_4']['kernel'] = np.swapaxes(decoder_weights[20], 2, 3)\n",
    "# params = freeze(unfrozen_params)"
   ]
  },
  {
   "cell_type": "code",
   "execution_count": 65,
   "id": "applicable-circular",
   "metadata": {},
   "outputs": [
    {
     "data": {
      "text/plain": [
       "<matplotlib.colorbar.Colorbar at 0x7fe730f3ca10>"
      ]
     },
     "execution_count": 65,
     "metadata": {},
     "output_type": "execute_result"
    },
    {
     "data": {
      "image/png": "[encoded data removed]",
      "text/plain": [
       "<Figure size 432x288 with 2 Axes>"
      ]
     },
     "metadata": {
      "needs_background": "light"
     },
     "output_type": "display_data"
    }
   ],
   "source": [
    "# key, subkey = random.split(key)\n",
    "# z = random.normal(subkey, (1, 1, 64))\n",
    "# x = decoder.apply(params, z, train=False)\n",
    "x = np.zeros((xdim, xdim))\n",
    "x[xdim // 2, xdim // 2] = 1\n",
    "x[xdim // 2, xdim // 2 - 2] = 1\n",
    "x[xdim // 2, xdim // 2 - 4] = 1\n",
    "x[xdim // 2, xdim // 2 - 6] = 1\n",
    "x[xdim // 2, xdim // 2 + 2] = 1\n",
    "x[xdim // 2, xdim // 2 + 4] = 1\n",
    "x[xdim // 2, xdim // 2 + 6] = 1\n",
    "\n",
    "x_true = gf(x, 3)\n",
    "\n",
    "fig, ax = plt.subplots(1, 1)\n",
    "img = ax.imshow(x_true, origin='lower')\n",
    "fig.colorbar(img)"
   ]
  },
  {
   "cell_type": "code",
   "execution_count": 66,
   "id": "waiting-brain",
   "metadata": {},
   "outputs": [
    {
     "data": {
      "text/plain": [
       "<matplotlib.colorbar.Colorbar at 0x7fe70d0b26d0>"
      ]
     },
     "execution_count": 66,
     "metadata": {},
     "output_type": "execute_result"
    },
    {
     "data": {
      "image/png": "[encoded data removed]",
      "text/plain": [
       "<Figure size 432x288 with 2 Axes>"
      ]
     },
     "metadata": {
      "needs_background": "light"
     },
     "output_type": "display_data"
    }
   ],
   "source": [
    "key, subkey = random.split(key)\n",
    "x_rec = vae.apply(params, x_true, z_rng=subkey, train=False)\n",
    "\n",
    "fig, ax = plt.subplots(1, 1)\n",
    "img = ax.imshow(x_rec[0], origin='lower')\n",
    "fig.colorbar(img)"
   ]
  },
  {
   "cell_type": "code",
   "execution_count": 67,
   "id": "whole-beijing",
   "metadata": {},
   "outputs": [
    {
     "data": {
      "text/plain": [
       "<matplotlib.colorbar.Colorbar at 0x7fe70ce18410>"
      ]
     },
     "execution_count": 67,
     "metadata": {},
     "output_type": "execute_result"
    },
    {
     "data": {
      "image/png": "[encoded data removed]",
      "text/plain": [
       "<Figure size 432x288 with 2 Axes>"
      ]
     },
     "metadata": {
      "needs_background": "light"
     },
     "output_type": "display_data"
    }
   ],
   "source": [
    "x_rec_tf = np.squeeze(vae_tf(x_true[None, ..., None]))\n",
    "fig, ax = plt.subplots(1, 1)\n",
    "img = ax.imshow(x_rec_tf, origin='lower')\n",
    "fig.colorbar(img)"
   ]
  },
  {
   "cell_type": "code",
   "execution_count": null,
   "id": "reduced-christopher",
   "metadata": {},
   "outputs": [],
   "source": []
  },
  {
   "cell_type": "markdown",
   "id": "metropolitan-worth",
   "metadata": {},
   "source": [
    "## Test just the decoder"
   ]
  },
  {
   "cell_type": "code",
   "execution_count": 41,
   "id": "dominant-fifteen",
   "metadata": {},
   "outputs": [
    {
     "data": {
      "text/plain": [
       "(64, 64)"
      ]
     },
     "execution_count": 41,
     "metadata": {},
     "output_type": "execute_result"
    }
   ],
   "source": [
    "# key, subkey = random.split(key)\n",
    "# z = random.normal(subkey, (1, 1, zdim))\n",
    "# x = decoder.apply(decoder_params, z, train=False)\n",
    "# x_rec = vae.apply(params, z, method=vae._decode)\n",
    "x_rec = vae.decode(params, z)\n",
    "x_rec.shape"
   ]
  },
  {
   "cell_type": "code",
   "execution_count": 42,
   "id": "pressed-shame",
   "metadata": {},
   "outputs": [
    {
     "data": {
      "text/plain": [
       "<matplotlib.colorbar.Colorbar at 0x7fc7ab8bae10>"
      ]
     },
     "execution_count": 42,
     "metadata": {},
     "output_type": "execute_result"
    },
    {
     "data": {
      "image/png": "[encoded data removed]",
      "text/plain": [
       "<Figure size 432x288 with 2 Axes>"
      ]
     },
     "metadata": {
      "needs_background": "light"
     },
     "output_type": "display_data"
    }
   ],
   "source": [
    "fig, ax = plt.subplots(1, 1)\n",
    "img = ax.imshow(x_rec, origin='lower')\n",
    "fig.colorbar(img)"
   ]
  },
  {
   "cell_type": "code",
   "execution_count": 31,
   "id": "solar-blowing",
   "metadata": {},
   "outputs": [
    {
     "data": {
      "text/plain": [
       "<matplotlib.colorbar.Colorbar at 0x7fc7a9a8eed0>"
      ]
     },
     "execution_count": 31,
     "metadata": {},
     "output_type": "execute_result"
    },
    {
     "data": {
      "image/png": "[encoded data removed]",
      "text/plain": [
       "<Figure size 432x288 with 2 Axes>"
      ]
     },
     "metadata": {
      "needs_background": "light"
     },
     "output_type": "display_data"
    }
   ],
   "source": [
    "x_rec_tf = np.squeeze(decoder_tf(np.array(z[0])))\n",
    "\n",
    "fig, ax = plt.subplots(1, 1)\n",
    "img = ax.imshow(x_rec_tf, origin='lower')\n",
    "fig.colorbar(img)"
   ]
  },
  {
   "cell_type": "code",
   "execution_count": null,
   "id": "unknown-bobby",
   "metadata": {},
   "outputs": [],
   "source": []
  },
  {
   "cell_type": "markdown",
   "id": "aging-bride",
   "metadata": {},
   "source": [
    "## Can we differentiate wrt z ? (YES)"
   ]
  },
  {
   "cell_type": "code",
   "execution_count": 149,
   "id": "derived-creation",
   "metadata": {},
   "outputs": [],
   "source": [
    "def loss(z):\n",
    "    x_rec = vae.apply(params, z, method=vae._decode)\n",
    "    return jnp.sum((x_true - x_rec)**2) / 2\n",
    "\n",
    "@jax.jit\n",
    "def grad_loss(z):\n",
    "    return jnp.squeeze(jax.grad(loss)(z))\n",
    "\n",
    "@jax.jit\n",
    "def hess_loss(z):\n",
    "    return jnp.squeeze(jax.hessian(loss)(z))"
   ]
  },
  {
   "cell_type": "code",
   "execution_count": 153,
   "id": "induced-rainbow",
   "metadata": {},
   "outputs": [
    {
     "data": {
      "text/plain": [
       "DeviceArray(0.18976327, dtype=float64)"
      ]
     },
     "execution_count": 153,
     "metadata": {},
     "output_type": "execute_result"
    }
   ],
   "source": [
    "key, subkey = random.split(key)\n",
    "z_current = random.normal(subkey, ((1, 64)))\n",
    "loss(z_current)"
   ]
  },
  {
   "cell_type": "code",
   "execution_count": 154,
   "id": "returning-threshold",
   "metadata": {},
   "outputs": [
    {
     "data": {
      "text/plain": [
       "Buffer([-0.01255387, -0.00168787,  0.03273134, -0.02204758,  0.03308836,\n",
       "        -0.00861002,  0.01278384,  0.00519522,  0.03527437, -0.00071918,\n",
       "        -0.00628908, -0.01239578, -0.02725351, -0.01526702,  0.01276483,\n",
       "         0.01210221,  0.01522147,  0.01118725, -0.00839118,  0.00865552,\n",
       "        -0.00836884,  0.02085181,  0.01757636, -0.02409693,  0.00232838,\n",
       "         0.01425546,  0.01758219, -0.01059118,  0.00181972, -0.00166388,\n",
       "         0.00442546,  0.00524286, -0.01052691,  0.00027303, -0.00017721,\n",
       "         0.02437173, -0.00120721,  0.01640207, -0.01212517,  0.00157719,\n",
       "        -0.0239323 , -0.0161502 ,  0.02486473, -0.00133514,  0.00206976,\n",
       "        -0.00943239, -0.01604187,  0.00988377, -0.01883834,  0.00813398,\n",
       "        -0.0112985 ,  0.00628785,  0.00704195,  0.0014617 , -0.01050278,\n",
       "         0.01673628,  0.01559182,  0.0161937 ,  0.00572071, -0.01900192,\n",
       "         0.01667552,  0.00876774,  0.01731476,  0.00045822],       dtype=float64)"
      ]
     },
     "execution_count": 154,
     "metadata": {},
     "output_type": "execute_result"
    }
   ],
   "source": [
    "grad_loss(z_current)"
   ]
  },
  {
   "cell_type": "code",
   "execution_count": 155,
   "id": "suited-farmer",
   "metadata": {},
   "outputs": [
    {
     "data": {
      "text/plain": [
       "Buffer([[ 0.00475314, -0.00061995, -0.00613802, ..., -0.00174962,\n",
       "         -0.00291408,  0.00117937],\n",
       "        [-0.00061995,  0.00247427, -0.00166243, ..., -0.00048089,\n",
       "         -0.0007127 , -0.00083843],\n",
       "        [-0.00613802, -0.00166243,  0.01779021, ...,  0.00435956,\n",
       "          0.00883097,  0.00090992],\n",
       "        ...,\n",
       "        [-0.00174962, -0.00048089,  0.00435956, ...,  0.00196121,\n",
       "          0.00238083,  0.00060473],\n",
       "        [-0.00291407, -0.0007127 ,  0.00883096, ...,  0.00238083,\n",
       "          0.00554991,  0.00119164],\n",
       "        [ 0.00117937, -0.00083843,  0.00090992, ...,  0.00060473,\n",
       "          0.00119164,  0.00295011]], dtype=float64)"
      ]
     },
     "execution_count": 155,
     "metadata": {},
     "output_type": "execute_result"
    }
   ],
   "source": [
    "hess_loss(z_current)"
   ]
  },
  {
   "cell_type": "code",
   "execution_count": 91,
   "id": "judicial-pipeline",
   "metadata": {},
   "outputs": [],
   "source": [
    "from scipy.optimize import minimize"
   ]
  },
  {
   "cell_type": "code",
   "execution_count": 156,
   "id": "trained-dealing",
   "metadata": {},
   "outputs": [],
   "source": [
    "key, subkey = random.split(key)\n",
    "# z0 = random.normal(subkey, (64,))\n",
    "z0 = jnp.zeros((64,))"
   ]
  },
  {
   "cell_type": "code",
   "execution_count": 157,
   "id": "broadband-queensland",
   "metadata": {},
   "outputs": [],
   "source": [
    "opt = minimize(loss, z0, method='trust-krylov', jac=grad_loss, hess=hess_loss)"
   ]
  },
  {
   "cell_type": "code",
   "execution_count": 136,
   "id": "informed-typing",
   "metadata": {},
   "outputs": [
    {
     "data": {
      "text/plain": [
       "<matplotlib.colorbar.Colorbar at 0x7fe71764f8d0>"
      ]
     },
     "execution_count": 136,
     "metadata": {},
     "output_type": "execute_result"
    },
    {
     "data": {
      "image/png": "[encoded data removed]",
      "text/plain": [
       "<Figure size 432x288 with 2 Axes>"
      ]
     },
     "metadata": {
      "needs_background": "light"
     },
     "output_type": "display_data"
    }
   ],
   "source": [
    "fig, ax = plt.subplots(1, 1)\n",
    "img = ax.imshow(vae.apply(params, opt.x, method=vae._decode), origin='lower')\n",
    "fig.colorbar(img)"
   ]
  },
  {
   "cell_type": "code",
   "execution_count": 158,
   "id": "registered-remains",
   "metadata": {},
   "outputs": [
    {
     "data": {
      "text/plain": [
       "<matplotlib.colorbar.Colorbar at 0x7fe714548bd0>"
      ]
     },
     "execution_count": 158,
     "metadata": {},
     "output_type": "execute_result"
    },
    {
     "data": {
      "image/png": "[encoded data removed]",
      "text/plain": [
       "<Figure size 432x288 with 2 Axes>"
      ]
     },
     "metadata": {
      "needs_background": "light"
     },
     "output_type": "display_data"
    }
   ],
   "source": [
    "fig, ax = plt.subplots(1, 1)\n",
    "img = ax.imshow(vae.apply(params, opt.x, method=vae._decode), origin='lower')\n",
    "fig.colorbar(img)"
   ]
  },
  {
   "cell_type": "code",
   "execution_count": 159,
   "id": "progressive-retention",
   "metadata": {},
   "outputs": [
    {
     "data": {
      "text/plain": [
       "     fun: DeviceArray(0.00122344, dtype=float64)\n",
       "    hess: array([[ 0.00579926, -0.00287813, -0.00195293, ...,  0.00225548,\n",
       "         0.00169035,  0.00246765],\n",
       "       [-0.00287813,  0.00990254,  0.00171645, ..., -0.0057547 ,\n",
       "        -0.00604895,  0.00491799],\n",
       "       [-0.00195293,  0.00171645,  0.00219664, ..., -0.00026174,\n",
       "        -0.00035175,  0.00018584],\n",
       "       ...,\n",
       "       [ 0.00225548, -0.0057547 , -0.00026175, ...,  0.00667861,\n",
       "         0.00629077, -0.0018814 ],\n",
       "       [ 0.00169035, -0.00604895, -0.00035175, ...,  0.00629077,\n",
       "         0.00856291, -0.003437  ],\n",
       "       [ 0.00246765,  0.00491799,  0.00018584, ..., -0.0018814 ,\n",
       "        -0.003437  ,  0.007849  ]])\n",
       "     jac: array([ 4.02391106e-06, -1.40304346e-05,  6.94828304e-06,  1.95225653e-06,\n",
       "       -8.96340339e-07,  2.75491197e-06, -3.57461613e-06,  7.49642368e-07,\n",
       "        2.84917587e-06,  7.97547091e-06, -2.25445137e-06,  4.49631784e-07,\n",
       "        5.77217907e-06, -8.77713228e-06,  3.90502237e-06, -2.77546678e-06,\n",
       "        1.09318589e-05,  8.02328771e-07, -8.64703634e-06,  6.57492274e-06,\n",
       "       -2.54064230e-06,  3.36246603e-06, -2.92958430e-06,  7.04649574e-06,\n",
       "       -1.88197419e-06,  3.92937238e-07,  5.55588531e-06, -6.55181384e-06,\n",
       "        4.07936795e-06,  5.58208012e-06,  2.62567983e-06, -2.06954201e-06,\n",
       "        4.23271831e-06,  4.93469543e-06, -4.06568773e-07, -2.65364042e-06,\n",
       "        3.19446281e-06,  4.09758741e-06,  2.49892196e-06, -3.38974814e-06,\n",
       "       -6.20247647e-07, -4.62259004e-06, -5.59436648e-06,  8.05868967e-06,\n",
       "       -4.96634073e-07, -8.11438531e-06,  1.93972642e-06, -4.16450092e-08,\n",
       "       -5.99413625e-07, -6.99695420e-06,  1.58114801e-08,  3.09798247e-06,\n",
       "       -7.10476525e-06,  7.68180234e-06,  6.63755736e-06, -1.59239175e-06,\n",
       "       -6.82629343e-06, -1.43576517e-06,  5.25483074e-06, -1.32378932e-06,\n",
       "        2.60795787e-06,  4.63635297e-06, -1.85296483e-06,  3.34496781e-06])\n",
       " message: 'Optimization terminated successfully.'\n",
       "    nfev: 42\n",
       "    nhev: 36\n",
       "     nit: 41\n",
       "    njev: 42\n",
       "  status: 0\n",
       " success: True\n",
       "       x: array([-0.05886793,  0.92161082, -1.54908141,  1.56834951, -1.21294175,\n",
       "       -0.44930241,  2.07238433, -0.88971266, -1.21908482,  0.84408688,\n",
       "       -0.57113551, -0.77692883,  0.83017771,  1.35862928, -1.05307072,\n",
       "       -1.09301701, -0.59011966,  1.42625052,  1.37507159, -2.61296384,\n",
       "        0.78269867, -0.74268718,  0.20056294, -0.08904173,  0.18126786,\n",
       "        0.20204492, -0.0916308 , -0.06589806, -1.22672933,  1.24508641,\n",
       "       -0.3301292 ,  0.98100577,  0.9692214 , -1.67470696,  0.94096427,\n",
       "        0.92142462, -0.4921643 , -0.4661026 , -0.18901092, -0.09889478,\n",
       "       -0.43145098,  0.67383703, -0.12690375, -1.08834805,  0.87962125,\n",
       "       -0.54041854,  0.20753931, -1.13672785, -0.98473823,  1.26124546,\n",
       "       -0.52737655, -0.33046438,  0.34277147,  0.99081058,  1.20062124,\n",
       "       -1.41664919, -0.84525567, -0.08737805,  0.51728349,  0.95615939,\n",
       "        0.33118368, -0.93614438, -1.44943571,  1.62163716])"
      ]
     },
     "execution_count": 159,
     "metadata": {},
     "output_type": "execute_result"
    }
   ],
   "source": [
    "opt"
   ]
  },
  {
   "cell_type": "code",
   "execution_count": null,
   "id": "thick-incident",
   "metadata": {},
   "outputs": [],
   "source": []
  }
 ],
 "metadata": {
  "kernelspec": {
   "display_name": "Python 3",
   "language": "python",
   "name": "python3"
  },
  "language_info": {
   "codemirror_mode": {
    "name": "ipython",
    "version": 3
   },
   "file_extension": ".py",
   "mimetype": "text/x-python",
   "name": "python",
   "nbconvert_exporter": "python",
   "pygments_lexer": "ipython3",
   "version": "3.7.9"
  }
 },
 "nbformat": 4,
 "nbformat_minor": 5
}
